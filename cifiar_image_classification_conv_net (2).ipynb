{
 "cells": [
  {
   "cell_type": "code",
   "execution_count": 15,
   "metadata": {
    "collapsed": true
   },
   "outputs": [],
   "source": [
    "# RoadMap\n",
    "# 1. Import our dependencies\n",
    "# 2. Read our datsets\n",
    "# 3. Split train and testing\n",
    "# 4. declare necessary hyperparametres\n",
    "# 5. declare placeholders\n",
    "# 6. declare variables (weights and biases)\n",
    "# 7. build function for conv2d and max-pooling for usability\n",
    "# 8. Build function for conv net \n",
    "# 9. define cost and optimizer \n",
    "# 10. train and test"
   ]
  },
  {
   "cell_type": "markdown",
   "metadata": {},
   "source": [
    "# 1. Import our necessary dependencies"
   ]
  },
  {
   "cell_type": "code",
   "execution_count": 16,
   "metadata": {
    "collapsed": true
   },
   "outputs": [],
   "source": [
    "import numpy as np\n",
    "import pandas as pd\n",
    "import matplotlib.pyplot as plt\n",
    "import tensorflow as tf\n",
    "from sklearn.model_selection import train_test_split\n",
    "from sklearn.preprocessing import OneHotEncoder\n",
    "import scipy.misc as smp\n",
    "%matplotlib inline"
   ]
  },
  {
   "cell_type": "markdown",
   "metadata": {},
   "source": [
    "# 2. Import our dataset"
   ]
  },
  {
   "cell_type": "code",
   "execution_count": 17,
   "metadata": {},
   "outputs": [
    {
     "data": {
      "text/plain": [
       "array([[ 59,  43,  50, ..., 140,  84,  72],\n",
       "       [154, 126, 105, ..., 139, 142, 144],\n",
       "       [255, 253, 253, ...,  83,  83,  84],\n",
       "       ..., \n",
       "       [ 71,  60,  74, ...,  68,  69,  68],\n",
       "       [250, 254, 211, ..., 215, 255, 254],\n",
       "       [ 62,  61,  60, ..., 130, 130, 131]], dtype=uint8)"
      ]
     },
     "execution_count": 17,
     "metadata": {},
     "output_type": "execute_result"
    }
   ],
   "source": [
    "# read data\n",
    "df = pd.read_pickle('/data_to_upload/data_batch_1')\n",
    "# X is features\n",
    "X = df['data']\n",
    "# y is our label\n",
    "df_y = df['labels']\n",
    "X"
   ]
  },
  {
   "cell_type": "code",
   "execution_count": 18,
   "metadata": {},
   "outputs": [
    {
     "name": "stdout",
     "output_type": "stream",
     "text": [
      "After importing data:  (10000, 3072)\n",
      "After converting array:  (10000, 3072)\n",
      "After reshape:  (10000, 3, 32, 32)\n",
      "After transpose:  (10000, 32, 32, 3)\n",
      "After tra reshape:  (10000, 3072)\n"
     ]
    }
   ],
   "source": [
    "print(\"After importing data: \", X.shape)\n",
    "X = np.array(X, dtype=float) / 255.0\n",
    "print(\"After converting array: \", X.shape)\n",
    "X = np.reshape(X, [-1, 3 , 32 ,32])\n",
    "print(\"After reshape: \", X.shape)\n",
    "X = np.transpose(X, [0, 2, 3, 1])\n",
    "print(\"After transpose: \", X.shape)\n",
    "X = np.reshape(X, [-1, 32*32*3])\n",
    "print(\"After tra reshape: \", X.shape)"
   ]
  },
  {
   "cell_type": "code",
   "execution_count": 19,
   "metadata": {},
   "outputs": [
    {
     "data": {
      "text/plain": [
       "array([[ 0.23137255,  0.24313725,  0.24705882, ...,  0.48235294,\n",
       "         0.36078431,  0.28235294],\n",
       "       [ 0.60392157,  0.69411765,  0.73333333, ...,  0.56078431,\n",
       "         0.52156863,  0.56470588],\n",
       "       [ 1.        ,  1.        ,  1.        , ...,  0.31372549,\n",
       "         0.3372549 ,  0.32941176],\n",
       "       ..., \n",
       "       [ 0.27843137,  0.30196078,  0.17254902, ...,  0.32941176,\n",
       "         0.30196078,  0.26666667],\n",
       "       [ 0.98039216,  1.        ,  1.        , ...,  1.        ,\n",
       "         0.99607843,  0.99607843],\n",
       "       [ 0.24313725,  0.21568627,  0.02745098, ...,  0.65490196,\n",
       "         0.77647059,  0.51372549]])"
      ]
     },
     "execution_count": 19,
     "metadata": {},
     "output_type": "execute_result"
    }
   ],
   "source": [
    "X"
   ]
  },
  {
   "cell_type": "code",
   "execution_count": 20,
   "metadata": {},
   "outputs": [
    {
     "data": {
      "text/plain": [
       "(10000,)"
      ]
     },
     "execution_count": 20,
     "metadata": {},
     "output_type": "execute_result"
    }
   ],
   "source": [
    "df_y = np.array(df_y, dtype=float)\n",
    "df_y.shape"
   ]
  },
  {
   "cell_type": "code",
   "execution_count": 21,
   "metadata": {},
   "outputs": [],
   "source": [
    "# df_y = df_y.reshape(-1, 1)\n",
    "# df_y.shape"
   ]
  },
  {
   "cell_type": "code",
   "execution_count": 22,
   "metadata": {},
   "outputs": [],
   "source": [
    "# transform y to oneHotEncode\n",
    "# oneHotEncode = OneHotEncoder()\n",
    "# oneHotEncode.fit(df_y)\n",
    "# df_y = oneHotEncode.transform(df_y).toarray()\n",
    "# df_y.shape"
   ]
  },
  {
   "cell_type": "code",
   "execution_count": 23,
   "metadata": {
    "collapsed": true
   },
   "outputs": [],
   "source": [
    "# split our data into train and testing set\n",
    "X_train, X_test, y_train, y_test = train_test_split(X, df_y, test_size=0.3, random_state=True)"
   ]
  },
  {
   "cell_type": "code",
   "execution_count": 24,
   "metadata": {},
   "outputs": [
    {
     "data": {
      "text/plain": [
       "(7000, 3072)"
      ]
     },
     "execution_count": 24,
     "metadata": {},
     "output_type": "execute_result"
    }
   ],
   "source": [
    "X_train.shape"
   ]
  },
  {
   "cell_type": "code",
   "execution_count": 25,
   "metadata": {
    "collapsed": true
   },
   "outputs": [],
   "source": [
    "# single_img_reshaped = np.transpose(np.reshape(X,(3, 32,32)), (1,2,0))\n",
    "# single_img_reshaped.shape"
   ]
  },
  {
   "cell_type": "code",
   "execution_count": 26,
   "metadata": {
    "collapsed": true
   },
   "outputs": [],
   "source": [
    "# hyperparametres\n",
    "learning_rate = 0.003\n",
    "num_steps = 200\n",
    "batch_size = 128\n",
    "display_step = 10\n",
    "\n",
    "dropout = 0.75\n",
    "\n",
    "# declare our placeholder\n",
    "X = tf.placeholder(tf.float32, [None, 3072])\n",
    "y = tf.placeholder(tf.int64, [None])\n",
    "keep_prob = tf.placeholder(tf.float32)\n",
    "\n",
    "# weights\n",
    "weights = {\n",
    "    'wh1' : tf.Variable(tf.random_normal([5, 5, 3, 64])),\n",
    "    'wh2' : tf.Variable(tf.random_normal([5, 5, 64, 128])),\n",
    "    'wh3' : tf.Variable(tf.random_normal([5, 5 ,128, 256])),\n",
    "    'wh4' : tf.Variable(tf.random_normal([5, 5, 256, 512])),\n",
    "    'wf1' : tf.Variable(tf.random_normal([2*2*512, 1024])),\n",
    "    'wf2' : tf.Variable(tf.random_normal([1024, 2048])),\n",
    "    'wOut' : tf.Variable(tf.random_normal([2048, 10]))\n",
    "}\n",
    "\n",
    "# biases\n",
    "biases = {\n",
    "    'bh1' : tf.Variable(tf.random_normal([64])),\n",
    "    'bh2' : tf.Variable(tf.random_normal([128])),\n",
    "    'bh3' : tf.Variable(tf.random_normal([256])),\n",
    "    'bh4' : tf.Variable(tf.random_normal([512])),\n",
    "    'bf1' : tf.Variable(tf.random_normal([1024])),\n",
    "    'bf2' : tf.Variable(tf.random_normal([2048])),\n",
    "    'bOut' : tf.Variable(tf.random_normal([10]))\n",
    "}"
   ]
  },
  {
   "cell_type": "code",
   "execution_count": 27,
   "metadata": {
    "collapsed": true
   },
   "outputs": [],
   "source": [
    "def conv_2d(X, weights, biases, strides=1):\n",
    "    X = tf.nn.conv2d(X, weights, strides=[1, strides, strides, 1], padding=\"SAME\")\n",
    "    X = tf.nn.bias_add(X, biases)\n",
    "    return tf.nn.relu(X)\n",
    "def max_pooling(X, k=2):\n",
    "    return tf.nn.max_pool(X, ksize=[1, k, k, 1], strides=[1, k, k, 1], padding=\"SAME\")\n",
    "\n",
    "def conv_net(X, weights, biases, dropout):\n",
    "    X = tf.reshape(X, shape=[-1, 32, 32, 3])\n",
    "    \n",
    "    conv1 = conv_2d(X, weights=weights['wh1'], biases=biases['bh1'])\n",
    "    conv1 = max_pooling(conv1)\n",
    "    conv1 = tf.nn.lrn(conv1, 4, bias=1.0, alpha=0.001 / 9.0, beta=0.75)\n",
    "    \n",
    "    conv2 = conv_2d(conv1, weights=weights['wh2'], biases=biases['bh2'])\n",
    "    conv2 = max_pooling(conv2)\n",
    "    conv2 = tf.nn.lrn(conv2, 4, bias=1.0, alpha=0.001 / 9.0, beta=0.75)\n",
    "    \n",
    "    conv3 = conv_2d(conv2, weights=weights['wh3'], biases=biases['bh3'])\n",
    "    conv3 = max_pooling(conv3)\n",
    "    conv3 = tf.nn.lrn(conv3, 4, bias=1.0, alpha=0.001 / 9.0, beta=0.75)\n",
    "\n",
    "    conv4 = conv_2d(conv3, weights=weights['wh4'], biases=biases['bh4'])\n",
    "    conv4 = max_pooling(conv4)\n",
    "    conv4 = tf.nn.lrn(conv4, 4, bias=1.0, alpha=0.001 / 9.0, beta=0.75)\n",
    "\n",
    "    fc1 = tf.reshape(conv4, [-1, weights['wf1'].get_shape().as_list()[0]])\n",
    "    fc1 = tf.add(tf.matmul(fc1, weights['wf1']), biases['bf1'])\n",
    "    fc1 = tf.nn.relu(fc1)\n",
    "    \n",
    "    fc2 = tf.add(tf.matmul(fc1, weights['wf2']), biases['bf2'])\n",
    "    fc2 = tf.nn.relu(fc2)\n",
    "    \n",
    "    fc2 = tf.nn.dropout(fc2, dropout)\n",
    "    \n",
    "    out = tf.add(tf.matmul(fc2, weights['wOut']), biases['bOut'])\n",
    "    return out"
   ]
  },
  {
   "cell_type": "code",
   "execution_count": 28,
   "metadata": {},
   "outputs": [],
   "source": [
    "logits = conv_net(X, weights=weights, biases=biases, dropout=keep_prob)\n",
    "prediction = tf.nn.softmax(logits=logits)\n",
    "\n",
    "# Define loss and optimizer\n",
    "loss_op = tf.reduce_mean(tf.nn.sparse_softmax_cross_entropy_with_logits(logits=logits, labels=y))\n",
    "optimizer = tf.train.AdamOptimizer(learning_rate=learning_rate)\n",
    "train_op = optimizer.minimize(loss_op)\n",
    "\n",
    "\n",
    "# Evaluate model\n",
    "correct_pred = tf.equal(tf.argmax(prediction, 1), y) #tf.argmax(y, 1)\n",
    "accuracy = tf.reduce_mean(tf.cast(correct_pred, tf.float32))\n",
    "\n",
    "# Initialize the variables (i.e. assign their default value)\n",
    "init = tf.global_variables_initializer()"
   ]
  },
  {
   "cell_type": "code",
   "execution_count": 29,
   "metadata": {},
   "outputs": [
    {
     "name": "stdout",
     "output_type": "stream",
     "text": [
      "Step 1, Minibatch Loss= 482982.6250, Training Accuracy= 0.156\n",
      "Step 10, Minibatch Loss= 129197.2734, Training Accuracy= 0.172\n",
      "Step 20, Minibatch Loss= 63757.5547, Training Accuracy= 0.203\n",
      "Step 30, Minibatch Loss= 33046.1992, Training Accuracy= 0.242\n",
      "Step 40, Minibatch Loss= 28873.3398, Training Accuracy= 0.336\n",
      "Step 50, Minibatch Loss= 22245.4141, Training Accuracy= 0.297\n",
      "Step 60, Minibatch Loss= 16557.8926, Training Accuracy= 0.375\n",
      "Step 70, Minibatch Loss= 19259.1484, Training Accuracy= 0.320\n",
      "Step 80, Minibatch Loss= 13175.0977, Training Accuracy= 0.258\n",
      "Step 90, Minibatch Loss= 10179.9023, Training Accuracy= 0.297\n",
      "Step 100, Minibatch Loss= 5894.0601, Training Accuracy= 0.227\n",
      "Step 110, Minibatch Loss= 2864.4751, Training Accuracy= 0.289\n",
      "Step 120, Minibatch Loss= 1090.3297, Training Accuracy= 0.195\n",
      "Step 130, Minibatch Loss= 274.2333, Training Accuracy= 0.195\n",
      "Step 140, Minibatch Loss= 241.3480, Training Accuracy= 0.164\n",
      "Step 150, Minibatch Loss= 71.4818, Training Accuracy= 0.141\n",
      "Step 160, Minibatch Loss= 57.9493, Training Accuracy= 0.125\n",
      "Step 170, Minibatch Loss= 24.6273, Training Accuracy= 0.133\n",
      "Step 180, Minibatch Loss= 15.2575, Training Accuracy= 0.086\n",
      "Step 190, Minibatch Loss= 38.8709, Training Accuracy= 0.141\n",
      "Step 200, Minibatch Loss= 5.2982, Training Accuracy= 0.078\n",
      "Optimization Finished!\n",
      "Testing Accuracy: 0.105667\n"
     ]
    }
   ],
   "source": [
    "\n",
    "# Start training\n",
    "with tf.Session() as sess:\n",
    "\n",
    "    # Run the initializer\n",
    "    sess.run(init)\n",
    "\n",
    "    for step in range(1, num_steps+1):\n",
    "        \n",
    "        randidx = np.random.randint(len(X_train), size=batch_size)\n",
    "        batch_xs = X_train[randidx]\n",
    "        batch_ys = y_train[randidx]\n",
    "        \n",
    "        # Run optimization op (backprop)\n",
    "        sess.run(train_op, feed_dict={X: batch_xs, y: batch_ys, keep_prob: dropout})\n",
    "        if step % display_step == 0 or step == 1:\n",
    "            # Calculate batch loss and accuracy\n",
    "            loss, acc = sess.run([loss_op, accuracy], feed_dict={X: batch_xs,y: batch_ys,keep_prob: 1.0})\n",
    "            print(\"Step \" + str(step) + \", Minibatch Loss= \" + \\\n",
    "                  \"{:.4f}\".format(loss) + \", Training Accuracy= \" + \\\n",
    "                  \"{:.3f}\".format(acc))\n",
    "\n",
    "    print(\"Optimization Finished!\")\n",
    "\n",
    "    # Calculate accuracy for 256 MNIST test images\n",
    "    print(\"Testing Accuracy:\", \\\n",
    "        sess.run(accuracy, feed_dict={X: X_test,\n",
    "                                      y: y_test,\n",
    "                                      keep_prob: 1.0}))"
   ]
  },
  {
   "cell_type": "code",
   "execution_count": null,
   "metadata": {
    "collapsed": true
   },
   "outputs": [],
   "source": []
  }
 ],
 "metadata": {
  "kernelspec": {
   "display_name": "Python 3",
   "language": "python",
   "name": "python3"
  },
  "language_info": {
   "codemirror_mode": {
    "name": "ipython",
    "version": 3
   },
   "file_extension": ".py",
   "mimetype": "text/x-python",
   "name": "python",
   "nbconvert_exporter": "python",
   "pygments_lexer": "ipython3",
   "version": "3.5.3"
  }
 },
 "nbformat": 4,
 "nbformat_minor": 2
}
